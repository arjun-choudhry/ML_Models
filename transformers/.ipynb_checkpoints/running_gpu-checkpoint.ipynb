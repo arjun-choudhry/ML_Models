{
 "cells": [
  {
   "cell_type": "code",
   "execution_count": 1,
   "id": "2ed4229a-e38e-43de-a802-11e257106ee0",
   "metadata": {},
   "outputs": [],
   "source": [
    "import torch"
   ]
  },
  {
   "cell_type": "markdown",
   "id": "ad84004d-9b10-4f0b-b46c-769f79476caa",
   "metadata": {},
   "source": [
    "### Checking if nvidia gpu's are available and number of devices available"
   ]
  },
  {
   "cell_type": "code",
   "execution_count": 3,
   "id": "77386dd8-7528-4a9f-8e19-6b094c0ba849",
   "metadata": {},
   "outputs": [
    {
     "name": "stdout",
     "output_type": "stream",
     "text": [
      "zsh:1: command not found: nvidia-smi\n"
     ]
    }
   ],
   "source": [
    "!nvidia-smi"
   ]
  },
  {
   "cell_type": "code",
   "execution_count": 4,
   "id": "27f39bf5-e899-4133-9213-42ced1604e95",
   "metadata": {},
   "outputs": [
    {
     "name": "stdout",
     "output_type": "stream",
     "text": [
      "False\n"
     ]
    }
   ],
   "source": [
    "print(torch.cuda.is_available())"
   ]
  },
  {
   "cell_type": "markdown",
   "id": "110bd9ed-3058-4940-97c7-778d6b1fe55f",
   "metadata": {},
   "source": [
    "You can count the number of GPUs PyTorch has access to using `torch.cuda.device_count()`."
   ]
  },
  {
   "cell_type": "markdown",
   "id": "bc34c2e2-7c27-4af2-9506-90a15c73a4f0",
   "metadata": {},
   "source": [
    "### Setting Device"
   ]
  },
  {
   "cell_type": "code",
   "execution_count": 7,
   "id": "e20e8f70-4397-43b6-a455-901e9f0576d7",
   "metadata": {},
   "outputs": [
    {
     "name": "stdout",
     "output_type": "stream",
     "text": [
      "mps\n"
     ]
    }
   ],
   "source": [
    "def get_device():\n",
    "    if torch.cuda.is_available():\n",
    "        return 'cuda'\n",
    "    elif torch.backends.mps.is_available():\n",
    "        return 'mps'\n",
    "    else:\n",
    "        return 'cpu'\n",
    "\n",
    "device = get_device()\n",
    "print(device)"
   ]
  },
  {
   "cell_type": "markdown",
   "id": "94a8c3c1-348d-423a-934d-01f8fc696770",
   "metadata": {},
   "source": [
    "### Putting tensors (and models) on the GPU"
   ]
  },
  {
   "cell_type": "code",
   "execution_count": 10,
   "id": "f70966ec-4058-4324-a132-82f7526c6695",
   "metadata": {},
   "outputs": [
    {
     "name": "stdout",
     "output_type": "stream",
     "text": [
      "tensor([1, 2, 3]) cpu\n",
      "tensor([1, 2, 3], device='mps:0') mps:0\n",
      "tensor([1, 2, 3]) cpu\n"
     ]
    }
   ],
   "source": [
    "# Create tensor (default on CPU)\n",
    "tensor = torch.tensor([1, 2, 3])\n",
    "\n",
    "# Tensor not on GPU\n",
    "print(tensor, tensor.device)\n",
    "\n",
    "# Move tensor to GPU (if available)\n",
    "tensor_on_gpu = tensor.to(device)\n",
    "print(tensor_on_gpu, tensor_on_gpu.device)\n",
    "print(tensor, tensor.device)"
   ]
  },
  {
   "cell_type": "markdown",
   "id": "1fcde547-0d30-47e9-84ed-8154482bf9d3",
   "metadata": {},
   "source": [
    "Notice the second tensor has device='mps:0', this means it's stored on the 0th GPU available (GPUs are 0 indexed, if two GPUs were available, they'd be 'mps/cuda:0' and 'mps/cuda:1' respectively, up to 'mps/cuda:n')."
   ]
  },
  {
   "cell_type": "code",
   "execution_count": 12,
   "id": "c0518d41-802b-40bd-8f49-640eed366d3b",
   "metadata": {},
   "outputs": [
    {
     "name": "stdout",
     "output_type": "stream",
     "text": [
      "[1 2 3] cpu\n"
     ]
    }
   ],
   "source": [
    "# Instead, copy the tensor back to cpu\n",
    "tensor_back_on_cpu = tensor_on_gpu.cpu().numpy()\n",
    "print(tensor_back_on_cpu, tensor_back_on_cpu.device)"
   ]
  },
  {
   "cell_type": "code",
   "execution_count": null,
   "id": "93b707a4-5496-44f4-a288-b47e04c8b198",
   "metadata": {},
   "outputs": [],
   "source": []
  }
 ],
 "metadata": {
  "kernelspec": {
   "display_name": "Python 3 (ipykernel)",
   "language": "python",
   "name": "python3"
  },
  "language_info": {
   "codemirror_mode": {
    "name": "ipython",
    "version": 3
   },
   "file_extension": ".py",
   "mimetype": "text/x-python",
   "name": "python",
   "nbconvert_exporter": "python",
   "pygments_lexer": "ipython3",
   "version": "3.9.6"
  }
 },
 "nbformat": 4,
 "nbformat_minor": 5
}
