{
 "cells": [
  {
   "cell_type": "code",
   "execution_count": 1,
   "id": "acb62ca8-d216-45bf-ad61-6cdf2f7dfe0b",
   "metadata": {},
   "outputs": [],
   "source": [
    "import torch"
   ]
  },
  {
   "cell_type": "markdown",
   "id": "0ee76d40-b171-4869-84bb-9fbb0be8fc7b",
   "metadata": {},
   "source": [
    "# Calculating Time"
   ]
  },
  {
   "cell_type": "code",
   "execution_count": 63,
   "id": "0a2cc729-05e0-4050-8ea5-fcead5d0e8e8",
   "metadata": {},
   "outputs": [
    {
     "name": "stdout",
     "output_type": "stream",
     "text": [
      "a\n",
      "CPU times: user 53 µs, sys: 10 µs, total: 63 µs\n",
      "Wall time: 59.8 µs\n"
     ]
    }
   ],
   "source": [
    "%%time\n",
    "print('a')"
   ]
  },
  {
   "cell_type": "markdown",
   "id": "e29edcb7-fee3-4673-a524-12965c783963",
   "metadata": {},
   "source": [
    "# Creating Tensors\n"
   ]
  },
  {
   "cell_type": "markdown",
   "id": "18b20aac-d10c-4740-a20e-b1eae6b668cf",
   "metadata": {},
   "source": [
    "### Scalar Tensors"
   ]
  },
  {
   "cell_type": "code",
   "execution_count": 15,
   "id": "c274812f-08ab-4cd6-bdc8-e52c2bbad7b8",
   "metadata": {},
   "outputs": [
    {
     "name": "stdout",
     "output_type": "stream",
     "text": [
      "tensor(7)\n",
      "0\n",
      "7\n",
      "torch.Size([])\n"
     ]
    }
   ],
   "source": [
    "# Scalar\n",
    "scalar = torch.tensor(7)\n",
    "print(scalar)\n",
    "print(scalar.ndim)\n",
    "print(scalar.item())\n",
    "print(scalar.shape)"
   ]
  },
  {
   "cell_type": "markdown",
   "id": "f17a4dca-9c2b-4db0-9cee-51675413f19f",
   "metadata": {},
   "source": [
    "### Vectors"
   ]
  },
  {
   "cell_type": "code",
   "execution_count": 26,
   "id": "def04808-c828-410b-bb34-bdf29f6320aa",
   "metadata": {},
   "outputs": [
    {
     "name": "stdout",
     "output_type": "stream",
     "text": [
      "tensor([7, 7])\n",
      "1\n",
      "torch.Size([2])\n",
      "torch.int64\n"
     ]
    }
   ],
   "source": [
    "vector = torch.tensor([7, 7])\n",
    "print(vector)\n",
    "print(vector.ndim)\n",
    "print(vector.shape)\n",
    "print(vector.dtype)"
   ]
  },
  {
   "cell_type": "markdown",
   "id": "ca3a6d2e-24e9-41b6-a472-49dc0f3e7866",
   "metadata": {},
   "source": [
    "You can tell the number of dimensions a tensor in PyTorch has by the number of square brackets on the outside ([) and you only need to count one side."
   ]
  },
  {
   "cell_type": "markdown",
   "id": "b8ee197b-5d71-447e-bbb8-dcbbafa79dd6",
   "metadata": {},
   "source": [
    "### Matrix"
   ]
  },
  {
   "cell_type": "code",
   "execution_count": 18,
   "id": "941e65be-5a8e-472a-a054-97c399b4bc86",
   "metadata": {},
   "outputs": [
    {
     "name": "stdout",
     "output_type": "stream",
     "text": [
      "tensor([[ 7,  8],\n",
      "        [ 9, 10]])\n",
      "2\n",
      "torch.Size([2, 2])\n"
     ]
    }
   ],
   "source": [
    "# Matrix\n",
    "matrix = torch.tensor([[7, 8], [9, 10]])\n",
    "print(matrix)\n",
    "print(matrix.ndim)\n",
    "print(matrix.shape)"
   ]
  },
  {
   "cell_type": "markdown",
   "id": "89ff3dc4-35fc-46fb-afba-b0ff0b220835",
   "metadata": {},
   "source": [
    "matrix has two dimensions (did you count the number of square brackets on the outside of one side?)."
   ]
  },
  {
   "cell_type": "code",
   "execution_count": 32,
   "id": "75f8d412-7b93-48fe-909c-0a7c47768671",
   "metadata": {},
   "outputs": [
    {
     "name": "stdout",
     "output_type": "stream",
     "text": [
      "tensor([[[1., 2., 3.],\n",
      "         [3., 6., 9.],\n",
      "         [2., 4., 5.]]])\n",
      "3\n",
      "torch.Size([1, 3, 3])\n",
      "torch.float32\n",
      "tensor([[[1, 2, 3],\n",
      "         [3, 6, 9],\n",
      "         [2, 4, 5]]])\n",
      "3\n",
      "torch.Size([1, 3, 3])\n",
      "torch.int64\n"
     ]
    }
   ],
   "source": [
    "tensor = torch.tensor([[[1, 2, 3],\n",
    "                        [3, 6, 9],\n",
    "                        [2, 4, 5.]]])\n",
    "print(tensor)\n",
    "print(tensor.ndim)\n",
    "print(tensor.shape)\n",
    "print(tensor.dtype)\n",
    "\n",
    "tensor = torch.tensor([[[1, 2, 3],\n",
    "                        [3, 6, 9],\n",
    "                        [2, 4, 5]]])\n",
    "print(tensor)\n",
    "print(tensor.ndim)\n",
    "print(tensor.shape)\n",
    "print(tensor.dtype)"
   ]
  },
  {
   "cell_type": "markdown",
   "id": "4d77b421-4684-447d-862c-44d72b76b62c",
   "metadata": {},
   "source": [
    "Notice the tensor type changing by having 1 entry as a float"
   ]
  },
  {
   "cell_type": "markdown",
   "id": "12e5e812-40c7-4933-a159-505bb16eab9d",
   "metadata": {},
   "source": [
    "### Random Tensors"
   ]
  },
  {
   "cell_type": "code",
   "execution_count": 33,
   "id": "9e0fceec-bcdd-4bb0-9b51-4c82c2c73ebc",
   "metadata": {},
   "outputs": [
    {
     "name": "stdout",
     "output_type": "stream",
     "text": [
      "tensor([[0.8270, 0.6275, 0.3518, 0.8788],\n",
      "        [0.1443, 0.7010, 0.1186, 0.5628],\n",
      "        [0.3699, 0.7136, 0.3363, 0.6721]])\n",
      "2\n",
      "torch.Size([3, 4])\n",
      "torch.float32\n"
     ]
    }
   ],
   "source": [
    "random_tensor = torch.rand(size=(3, 4))\n",
    "print(random_tensor)\n",
    "print(random_tensor.ndim)\n",
    "print(random_tensor.shape)\n",
    "print(random_tensor.dtype)"
   ]
  },
  {
   "cell_type": "code",
   "execution_count": 34,
   "id": "80ef0bff-fd4a-4932-916f-a882b7c32ccc",
   "metadata": {},
   "outputs": [
    {
     "name": "stdout",
     "output_type": "stream",
     "text": [
      "tensor([[0., 0., 0., 0.],\n",
      "        [0., 0., 0., 0.],\n",
      "        [0., 0., 0., 0.]])\n",
      "2\n",
      "torch.Size([3, 4])\n",
      "torch.float32\n"
     ]
    }
   ],
   "source": [
    "random_tensor = torch.empty(size=(3, 4))\n",
    "print(random_tensor)\n",
    "print(random_tensor.ndim)\n",
    "print(random_tensor.shape)\n",
    "print(random_tensor.dtype)"
   ]
  },
  {
   "cell_type": "markdown",
   "id": "d279ac11-52b3-4320-b5bf-38a9a6b27718",
   "metadata": {},
   "source": [
    "### Zeros and Ones"
   ]
  },
  {
   "cell_type": "code",
   "execution_count": 41,
   "id": "2eaeeb44-512b-43b0-ac60-675bf0324269",
   "metadata": {},
   "outputs": [
    {
     "name": "stdout",
     "output_type": "stream",
     "text": [
      "tensor([[0., 0., 0., 0.],\n",
      "        [0., 0., 0., 0.],\n",
      "        [0., 0., 0., 0.]])\n",
      "2\n",
      "torch.Size([3, 4])\n",
      "torch.float32\n",
      "----\n",
      "tensor([[1., 1., 1., 1.],\n",
      "        [1., 1., 1., 1.],\n",
      "        [1., 1., 1., 1.]])\n",
      "2\n",
      "torch.Size([3, 4])\n",
      "torch.float32\n"
     ]
    }
   ],
   "source": [
    "zeros = torch.zeros(size=(3, 4))\n",
    "print(zeros)\n",
    "print(zeros.ndim)\n",
    "print(zeros.shape)\n",
    "print(zeros.dtype)\n",
    "\n",
    "print('----')\n",
    "\n",
    "ones = torch.ones(size=(3, 4))\n",
    "print(ones)\n",
    "print(ones.ndim)\n",
    "print(ones.shape)\n",
    "print(ones.dtype)"
   ]
  },
  {
   "cell_type": "markdown",
   "id": "7e99c240-ac1f-407c-a2d2-7724378d490f",
   "metadata": {},
   "source": [
    "### Range and tensor_like"
   ]
  },
  {
   "cell_type": "markdown",
   "id": "1ab17436-db86-4405-9f8e-8326e30fcbd0",
   "metadata": {},
   "source": [
    "You can use torch.arange(start, end, step) to get a range\n",
    "\n",
    "where:\n",
    "start = start of range (e.g. 0)\n",
    "end = end of range (e.g. 10)\n",
    "step = how many steps in between each value (e.g. 1)"
   ]
  },
  {
   "cell_type": "code",
   "execution_count": 39,
   "id": "4c831d76-ad88-4ee5-a935-3628acd58ee2",
   "metadata": {},
   "outputs": [
    {
     "name": "stdout",
     "output_type": "stream",
     "text": [
      "tensor([0, 2, 4])\n",
      "1\n",
      "torch.Size([3])\n",
      "torch.int64\n"
     ]
    }
   ],
   "source": [
    "range_tensor = torch.arange(0, 5, 2)\n",
    "print(range_tensor)\n",
    "print(range_tensor.ndim)\n",
    "print(range_tensor.shape)\n",
    "print(range_tensor.dtype)"
   ]
  },
  {
   "cell_type": "code",
   "execution_count": 42,
   "id": "c0b0ef3b-7d2f-48ac-911f-8fb8f4aa33bd",
   "metadata": {},
   "outputs": [
    {
     "name": "stdout",
     "output_type": "stream",
     "text": [
      "tensor([0, 0, 0])\n",
      "1\n",
      "torch.Size([3])\n",
      "torch.int64\n",
      "----\n",
      "tensor([1, 1, 1])\n",
      "1\n",
      "torch.Size([3])\n",
      "torch.int64\n"
     ]
    }
   ],
   "source": [
    "zero_2 = torch.zeros_like(range_tensor)\n",
    "print(zero_2)\n",
    "print(zero_2.ndim)\n",
    "print(zero_2.shape)\n",
    "print(zero_2.dtype)\n",
    "\n",
    "print('----')\n",
    "\n",
    "ones_2 = torch.ones_like(range_tensor)\n",
    "print(ones_2)\n",
    "print(ones_2.ndim)\n",
    "print(ones_2.shape)\n",
    "print(ones_2.dtype)"
   ]
  },
  {
   "cell_type": "markdown",
   "id": "982473d9-117e-42a9-8319-1353698b2f18",
   "metadata": {},
   "source": [
    "# Data Types"
   ]
  },
  {
   "cell_type": "markdown",
   "id": "05f628e9-a925-4bf9-baed-ad9cd3ca7e4c",
   "metadata": {},
   "source": [
    "Generally if you see torch.cuda anywhere, the tensor is being used for GPU (since Nvidia GPUs use a computing toolkit called CUDA).\n",
    "\n",
    "The most common type (and generally the default) is torch.float32 or torch.float.\n",
    "\n",
    "This is referred to as \"32-bit floating point\".\n",
    "\n",
    "But there's also 16-bit floating point (torch.float16 or torch.half) and 64-bit floating point (torch.float64 or torch.double)."
   ]
  },
  {
   "cell_type": "markdown",
   "id": "284dbc4b-bc84-48f3-89cc-ab338ac1d5c7",
   "metadata": {},
   "source": [
    "### Float 32 tensor"
   ]
  },
  {
   "cell_type": "code",
   "execution_count": 45,
   "id": "61116a2d-9803-4359-b7d3-b72d26f4026a",
   "metadata": {},
   "outputs": [
    {
     "name": "stdout",
     "output_type": "stream",
     "text": [
      "tensor([3., 6., 9.])\n",
      "1\n",
      "torch.Size([3])\n",
      "torch.float32\n",
      "cpu\n"
     ]
    }
   ],
   "source": [
    "float_32_tensor = torch.tensor(\n",
    "    [3.0, 6.0, 9.0],\n",
    "    dtype=None, # defaults to None, which is torch.float32 or whatever datatype is passed\n",
    "    device=None, # defaults to None, which uses the default tensor type\n",
    "    requires_grad=False # if True, operations performed on the tensor are recorded \n",
    ") \n",
    "print(float_32_tensor)\n",
    "print(float_32_tensor.ndim)\n",
    "print(float_32_tensor.shape)\n",
    "print(float_32_tensor.dtype)\n",
    "print(float_32_tensor.device)"
   ]
  },
  {
   "cell_type": "markdown",
   "id": "cb909dcc-fcf8-4c78-9c8b-dd189d5027c3",
   "metadata": {},
   "source": [
    "# Manipulating Tensors"
   ]
  },
  {
   "cell_type": "code",
   "execution_count": 47,
   "id": "63099e54-9902-4de7-9566-b30f927516ee",
   "metadata": {},
   "outputs": [
    {
     "name": "stdout",
     "output_type": "stream",
     "text": [
      "tensor([11, 12, 13])\n",
      "tensor([10, 20, 30])\n",
      "tensor([1, 2, 3])\n"
     ]
    }
   ],
   "source": [
    "tensor = torch.tensor([1, 2, 3])\n",
    "print(tensor + 10)\n",
    "print(tensor * 10)\n",
    "print(tensor)"
   ]
  },
  {
   "cell_type": "markdown",
   "id": "09b1c48f-baff-427b-9e29-7d31db17f935",
   "metadata": {},
   "source": [
    "### Adding and assignment"
   ]
  },
  {
   "cell_type": "code",
   "execution_count": 49,
   "id": "6a01ee16-35ea-4c5f-8f20-ca7bebfd1c02",
   "metadata": {},
   "outputs": [
    {
     "name": "stdout",
     "output_type": "stream",
     "text": [
      "tensor([11, 12, 13])\n"
     ]
    }
   ],
   "source": [
    "tensor = torch.tensor([1, 2, 3]) + 10\n",
    "print(tensor)"
   ]
  },
  {
   "cell_type": "markdown",
   "id": "bf76014e-265b-412b-b4a6-a1336bfd4fb6",
   "metadata": {},
   "source": [
    "### Element-wise operation"
   ]
  },
  {
   "cell_type": "code",
   "execution_count": 52,
   "id": "3bb67ae8-5a74-4848-948a-c19577a90714",
   "metadata": {},
   "outputs": [
    {
     "name": "stdout",
     "output_type": "stream",
     "text": [
      "tensor([ 3,  6, 12])\n",
      "tensor([ 2,  8, 27])\n"
     ]
    }
   ],
   "source": [
    "print(torch.tensor([1, 2, 3]) + torch.tensor([2,4,9]))\n",
    "print(torch.tensor([1, 2, 3]) * torch.tensor([2,4,9]))"
   ]
  },
  {
   "cell_type": "markdown",
   "id": "914587d2-5cd7-4c5a-bb66-51f958c0b0b3",
   "metadata": {},
   "source": [
    "### Matrix Multiplication"
   ]
  },
  {
   "cell_type": "code",
   "execution_count": 55,
   "id": "11a1cf95-a75a-432a-ace0-33df02b6fbd4",
   "metadata": {},
   "outputs": [
    {
     "name": "stdout",
     "output_type": "stream",
     "text": [
      "tensor(37)\n",
      "tensor(37)\n"
     ]
    }
   ],
   "source": [
    "a = torch.tensor([1, 2, 3])\n",
    "b = torch.tensor([2,4,9])\n",
    "\n",
    "print(torch.matmul(a, b)) # (1*2 + 2*4 + 3*9)\n",
    "print(a @ b)"
   ]
  },
  {
   "cell_type": "markdown",
   "id": "cbb08c53-9409-44ff-b1fc-33f468e11704",
   "metadata": {},
   "source": [
    "Can also use the \"@\" symbol for matrix multiplication, though not recommende"
   ]
  },
  {
   "cell_type": "code",
   "execution_count": 58,
   "id": "ef6a9532-4781-4c5b-8385-64c651b35845",
   "metadata": {},
   "outputs": [
    {
     "name": "stdout",
     "output_type": "stream",
     "text": [
      "tensor([[4., 4., 4., 4., 4.],\n",
      "        [4., 4., 4., 4., 4.],\n",
      "        [4., 4., 4., 4., 4.]])\n",
      "torch.Size([3, 5])\n"
     ]
    }
   ],
   "source": [
    "a = torch.ones(size=(3,4))\n",
    "b = torch.ones(size=(4,5))\n",
    "\n",
    "c = a @ b\n",
    "print(c)\n",
    "print(c.shape)"
   ]
  },
  {
   "cell_type": "markdown",
   "id": "3a9afb0a-8680-4c7a-a339-88b0c3335033",
   "metadata": {},
   "source": [
    "### Transpose of a matrix"
   ]
  },
  {
   "cell_type": "markdown",
   "id": "c9cbc371-cb0f-44d0-8198-277522536190",
   "metadata": {},
   "source": [
    "You can perform transposes in PyTorch using either:\n",
    "\n",
    "- torch.transpose(input, dim0, dim1) - where input is the desired tensor to transpose and dim0 and dim1 are the dimensions to be swapped.\n",
    "- tensor.T - where tensor is the desired tensor to transpose."
   ]
  },
  {
   "cell_type": "code",
   "execution_count": 65,
   "id": "9cbe26cd-f052-4718-9fde-b3b6dff044a7",
   "metadata": {},
   "outputs": [
    {
     "name": "stdout",
     "output_type": "stream",
     "text": [
      "torch.Size([3, 4])\n",
      "torch.Size([4, 5])\n",
      "torch.Size([4, 3])\n",
      "torch.Size([5, 4])\n"
     ]
    }
   ],
   "source": [
    "a = torch.ones(size=(3,4))\n",
    "b = torch.ones(size=(4,5))\n",
    "\n",
    "print(a.shape)\n",
    "print(b.shape)\n",
    "\n",
    "a_t = torch.transpose(a, 0, 1)\n",
    "b_t = b.T\n",
    "\n",
    "print(a_t.shape)\n",
    "print(b_t.shape)"
   ]
  },
  {
   "cell_type": "markdown",
   "id": "48acf711-eed1-4b47-ad9d-3d8e2a67bfed",
   "metadata": {},
   "source": [
    "### min, max, mean, sum, etc (aggregation)"
   ]
  },
  {
   "cell_type": "code",
   "execution_count": 68,
   "id": "76bb26de-84f8-47e4-9211-b7cf5e8a4edc",
   "metadata": {},
   "outputs": [],
   "source": [
    "x = torch.arange(0, 100, 10)"
   ]
  },
  {
   "cell_type": "code",
   "execution_count": 76,
   "id": "7f636f02-436a-474f-b3f5-06265de2d139",
   "metadata": {},
   "outputs": [
    {
     "name": "stdout",
     "output_type": "stream",
     "text": [
      "tensor(0)\n",
      "tensor(90)\n",
      "tensor(450)\n",
      "------\n",
      "tensor(0)\n",
      "tensor(90)\n",
      "tensor(450)\n"
     ]
    }
   ],
   "source": [
    "min_x = torch.min(x)\n",
    "max_x = torch.max(x)\n",
    "sum_x = torch.sum(x)\n",
    "\n",
    "print(min_x)\n",
    "print(max_x)\n",
    "print(sum_x)\n",
    "\n",
    "print('------')\n",
    "\n",
    "min_x = x.min()\n",
    "max_x = x.max()\n",
    "sum_x = x.sum()\n",
    "\n",
    "print(min_x)\n",
    "print(max_x)\n",
    "print(sum_x)"
   ]
  },
  {
   "cell_type": "code",
   "execution_count": 73,
   "id": "50a902da-ca9d-43a3-b8e2-bb24c300e582",
   "metadata": {},
   "outputs": [
    {
     "ename": "RuntimeError",
     "evalue": "mean(): could not infer output dtype. Input dtype must be either a floating point or complex dtype. Got: Long",
     "output_type": "error",
     "traceback": [
      "\u001b[0;31m---------------------------------------------------------------------------\u001b[0m",
      "\u001b[0;31mRuntimeError\u001b[0m                              Traceback (most recent call last)",
      "Cell \u001b[0;32mIn[73], line 1\u001b[0m\n\u001b[0;32m----> 1\u001b[0m mean_x \u001b[38;5;241m=\u001b[39m \u001b[43mtorch\u001b[49m\u001b[38;5;241;43m.\u001b[39;49m\u001b[43mmean\u001b[49m\u001b[43m(\u001b[49m\u001b[43mx\u001b[49m\u001b[43m)\u001b[49m\n",
      "\u001b[0;31mRuntimeError\u001b[0m: mean(): could not infer output dtype. Input dtype must be either a floating point or complex dtype. Got: Long"
     ]
    }
   ],
   "source": [
    "mean_x = torch.mean(x)"
   ]
  },
  {
   "cell_type": "markdown",
   "id": "ef611215-d582-44c7-85ac-2fd00269811c",
   "metadata": {},
   "source": [
    "You may find some methods such as torch.mean() require tensors to be in torch.float32 (the most common) or another specific datatype, otherwise the operation will fail."
   ]
  },
  {
   "cell_type": "code",
   "execution_count": 77,
   "id": "48d574ec-b636-4cb9-83d8-a24a10f2bdbf",
   "metadata": {},
   "outputs": [
    {
     "name": "stdout",
     "output_type": "stream",
     "text": [
      "tensor(45.)\n",
      "tensor(45.)\n",
      "torch.int64\n"
     ]
    }
   ],
   "source": [
    "mean_x = x.type(torch.float).mean()\n",
    "mean_x_2 = torch.mean(x.type(torch.float))\n",
    "\n",
    "print(mean_x)\n",
    "print(mean_x_2)\n",
    "\n",
    "print(x.dtype)"
   ]
  },
  {
   "cell_type": "markdown",
   "id": "e9b544ee-0a6c-402f-8655-6f0252162f08",
   "metadata": {},
   "source": [
    "Notice that the input type of original 'x' didnt change"
   ]
  },
  {
   "cell_type": "markdown",
   "id": "781c1294-1ec6-4ff4-b772-63f764ba6cc4",
   "metadata": {},
   "source": [
    "### Positional min/max"
   ]
  },
  {
   "cell_type": "code",
   "execution_count": 79,
   "id": "dd86151d-4d2a-4e25-94bb-5d0e50f47562",
   "metadata": {},
   "outputs": [
    {
     "name": "stdout",
     "output_type": "stream",
     "text": [
      "Index where max value occurs: 9\n",
      "Index where min value occurs: 0\n"
     ]
    }
   ],
   "source": [
    "print(f\"Index where max value occurs: {x.argmax()}\")\n",
    "print(f\"Index where min value occurs: {x.argmin()}\")"
   ]
  },
  {
   "cell_type": "markdown",
   "id": "9017ca55-1047-4e8d-a021-0ed69ecead93",
   "metadata": {},
   "source": [
    "### Change tensor datatype"
   ]
  },
  {
   "cell_type": "code",
   "execution_count": 80,
   "id": "3da65a7b-ac82-4f7d-add0-7dc4be0b01d1",
   "metadata": {},
   "outputs": [
    {
     "name": "stdout",
     "output_type": "stream",
     "text": [
      "torch.float32\n",
      "torch.float16\n",
      "torch.int64\n"
     ]
    }
   ],
   "source": [
    "tensor = torch.arange(10., 100., 10.)\n",
    "tensor_fp16 = tensor.type(torch.half)\n",
    "tensor_int64 = tensor.type(torch.int64)\n",
    "\n",
    "print(tensor.dtype)\n",
    "print(tensor_fp16.dtype)\n",
    "print(tensor_int64.dtype)"
   ]
  },
  {
   "cell_type": "markdown",
   "id": "c0dbca4c-3402-4168-9785-a4352731453f",
   "metadata": {},
   "source": [
    "### Reshaping, stacking, squeezing and unsqueezing"
   ]
  },
  {
   "cell_type": "code",
   "execution_count": 91,
   "id": "e4a4d2e7-9401-44da-9954-56cfa0829766",
   "metadata": {},
   "outputs": [
    {
     "name": "stdout",
     "output_type": "stream",
     "text": [
      "original_x: tensor([[0.0766, 0.8460, 0.3624, 0.3083],\n",
      "        [0.0850, 0.0029, 0.6431, 0.3908],\n",
      "        [0.6947, 0.0897, 0.8712, 0.1330]])\n",
      "reshaped_x: tensor([[0.0766, 0.8460, 0.3624, 0.3083, 0.0850, 0.0029],\n",
      "        [0.6431, 0.3908, 0.6947, 0.0897, 0.8712, 0.1330]])\n",
      "---\n",
      "same as permuted_x: tensor([[0.0766, 0.8460, 0.3624],\n",
      "        [0.3083, 0.0850, 0.0029],\n",
      "        [0.6431, 0.3908, 0.6947],\n",
      "        [0.0897, 0.8712, 0.1330]])\n",
      "permuted_x: tensor([[0.0766, 0.0850, 0.6947],\n",
      "        [0.8460, 0.0029, 0.0897],\n",
      "        [0.3624, 0.6431, 0.8712],\n",
      "        [0.3083, 0.3908, 0.1330]])\n"
     ]
    }
   ],
   "source": [
    "x = torch.rand(size=(3,4))\n",
    "\n",
    "x_reshape = torch.reshape(x, shape=(2,6))\n",
    "x_reshape_2 = torch.reshape(x, shape=(4,3))\n",
    "x_permute = torch.permute(x, dims=(1,0))\n",
    "\n",
    "print(f'original_x: {x}')\n",
    "print(f'reshaped_x: {x_reshape}')\n",
    "print('---')\n",
    "\n",
    "print(f'different than permuted_x: {x_reshape_2}')\n",
    "print(f'permuted_x - changes info in rows to columns. useful when we want the data to mean the same stuff: {x_permute}')"
   ]
  },
  {
   "cell_type": "code",
   "execution_count": 98,
   "id": "579da12d-9b04-41af-862f-a6d467696f53",
   "metadata": {},
   "outputs": [
    {
     "name": "stdout",
     "output_type": "stream",
     "text": [
      "tensor([[0.0766, 0.8460, 0.3624, 0.3083],\n",
      "        [0.0850, 0.0029, 0.6431, 0.3908],\n",
      "        [0.6947, 0.0897, 0.8712, 0.1330]])\n",
      "torch.Size([3, 4])\n",
      "tensor([[[0.0766, 0.8460, 0.3624, 0.3083],\n",
      "         [0.0850, 0.0029, 0.6431, 0.3908],\n",
      "         [0.6947, 0.0897, 0.8712, 0.1330]]])\n",
      "torch.Size([1, 3, 4])\n",
      "---\n",
      "tensor([[0.0766, 0.8460, 0.3624, 0.3083],\n",
      "        [0.0850, 0.0029, 0.6431, 0.3908],\n",
      "        [0.6947, 0.0897, 0.8712, 0.1330]])\n",
      "torch.Size([3, 4])\n",
      "tensor([[[0.0766, 0.8460, 0.3624, 0.3083]],\n",
      "\n",
      "        [[0.0850, 0.0029, 0.6431, 0.3908]],\n",
      "\n",
      "        [[0.6947, 0.0897, 0.8712, 0.1330]]])\n",
      "torch.Size([3, 1, 4])\n"
     ]
    }
   ],
   "source": [
    "x_unsqueeze = torch.unsqueeze(x, dim=0)\n",
    "print(x)\n",
    "print(x.shape)\n",
    "print(x_unsqueeze)\n",
    "print(x_unsqueeze.shape)\n",
    "\n",
    "print('---')\n",
    "\n",
    "x_unsqueeze = torch.unsqueeze(x, dim=1)\n",
    "print(x)\n",
    "print(x.shape)\n",
    "print(x_unsqueeze)\n",
    "print(x_unsqueeze.shape)"
   ]
  },
  {
   "cell_type": "code",
   "execution_count": 102,
   "id": "7b9dcbdd-a2af-4292-b7b5-eda4cf9c4a67",
   "metadata": {},
   "outputs": [
    {
     "name": "stdout",
     "output_type": "stream",
     "text": [
      "tensor([[[0.0766, 0.8460, 0.3624, 0.3083]],\n",
      "\n",
      "        [[0.0850, 0.0029, 0.6431, 0.3908]],\n",
      "\n",
      "        [[0.6947, 0.0897, 0.8712, 0.1330]]])\n",
      "torch.Size([3, 1, 4])\n",
      "tensor([[0.0766, 0.8460, 0.3624, 0.3083],\n",
      "        [0.0850, 0.0029, 0.6431, 0.3908],\n",
      "        [0.6947, 0.0897, 0.8712, 0.1330]])\n",
      "torch.Size([3, 4])\n"
     ]
    }
   ],
   "source": [
    "x_squeeze = torch.squeeze(x_unsqueeze, dim=1)\n",
    "print(x_unsqueeze)\n",
    "print(x_unsqueeze.shape)\n",
    "print(x_squeeze)\n",
    "print(x_squeeze.shape)"
   ]
  },
  {
   "cell_type": "markdown",
   "id": "598f38ff-b8aa-4cf2-b654-84c3102e08ed",
   "metadata": {},
   "source": [
    "### Views"
   ]
  },
  {
   "cell_type": "code",
   "execution_count": 108,
   "id": "f1fff48e-31b6-4647-a23f-15f5d8f1e2c7",
   "metadata": {},
   "outputs": [
    {
     "name": "stdout",
     "output_type": "stream",
     "text": [
      "tensor([[2, 6],\n",
      "        [1, 3]])\n",
      "tensor([[2, 6, 1, 3]])\n"
     ]
    }
   ],
   "source": [
    "x = torch.tensor([[2,6], [1,3]])\n",
    "tensor_view = x.view((1,4))\n",
    "\n",
    "print(x)\n",
    "print(tensor_view)"
   ]
  },
  {
   "cell_type": "markdown",
   "id": "7077be35-5187-4185-9d48-c07f5841488e",
   "metadata": {},
   "source": [
    "#### Because permuting returns a view (shares the same data as the original), the values in the permuted tensor will be the same as the original tensor and if you change the values in the view, it will change the values of the original."
   ]
  },
  {
   "cell_type": "markdown",
   "id": "67fe4d36-1d71-4b75-a8dd-b367edc2101b",
   "metadata": {},
   "source": [
    "### Indexing"
   ]
  },
  {
   "cell_type": "code",
   "execution_count": 111,
   "id": "6885b61e-8b91-436a-a127-fdcc124880f8",
   "metadata": {},
   "outputs": [
    {
     "name": "stdout",
     "output_type": "stream",
     "text": [
      "tensor([[[1, 2, 3],\n",
      "         [4, 5, 6],\n",
      "         [7, 8, 9]]])\n",
      "First square bracket:\n",
      "tensor([[1, 2, 3],\n",
      "        [4, 5, 6],\n",
      "        [7, 8, 9]])\n",
      "Second square bracket: tensor([1, 2, 3])\n",
      "Third square bracket: 1\n"
     ]
    }
   ],
   "source": [
    "x = torch.arange(1, 10).reshape(1, 3, 3)\n",
    "print(x)\n",
    "\n",
    "# Let's index bracket by bracket\n",
    "print(f\"First square bracket:\\n{x[0]}\") \n",
    "print(f\"Second square bracket: {x[0][0]}\") \n",
    "print(f\"Third square bracket: {x[0][0][0]}\")"
   ]
  },
  {
   "cell_type": "markdown",
   "id": "24be3ea5-a162-4233-8698-69ecd20256a0",
   "metadata": {},
   "source": [
    "You can also use : to specify \"all values in this dimension\" and then use a comma (,) to add another dimension."
   ]
  },
  {
   "cell_type": "code",
   "execution_count": 113,
   "id": "0fc84083-f585-44c4-a235-6a7c2ee91d10",
   "metadata": {},
   "outputs": [
    {
     "name": "stdout",
     "output_type": "stream",
     "text": [
      "tensor([[1, 2, 3]])\n",
      "tensor([[2, 5, 8]])\n",
      "tensor([5])\n",
      "tensor([1, 2, 3])\n"
     ]
    }
   ],
   "source": [
    "# Get all values of 0th dimension and the 0 index of 1st dimension\n",
    "print(x[:, 0])\n",
    "\n",
    "# Get all values of 0th & 1st dimensions but only index 1 of 2nd dimension\n",
    "print(x[:, :, 1])\n",
    "\n",
    "# Get all values of the 0 dimension but only the 1 index value of the 1st and 2nd dimension\n",
    "print(x[:, 1, 1])\n",
    "\n",
    "# Get index 0 of 0th and 1st dimension and all values of 2nd dimension \n",
    "print(x[0, 0, :]) # same as x[0][0]\n"
   ]
  },
  {
   "cell_type": "markdown",
   "id": "3ebdf922-5133-4be0-9c60-d9a9ae425f22",
   "metadata": {},
   "source": [
    "# PyTorch tensors & NumPy"
   ]
  },
  {
   "cell_type": "markdown",
   "id": "5a5e96c9-284a-423c-9977-f22a22c7f71f",
   "metadata": {},
   "source": [
    "Since NumPy is a popular Python numerical computing library, PyTorch has functionality to interact with it nicely.\n",
    "\n",
    "The two main methods you'll want to use for NumPy to PyTorch (and back again) are:\n",
    "\n",
    "- torch.from_numpy(ndarray) - NumPy array -> PyTorch tensor.\n",
    "- torch.Tensor.numpy() - PyTorch tensor -> NumPy array.\n"
   ]
  },
  {
   "cell_type": "code",
   "execution_count": 114,
   "id": "158c0a29-434e-4914-a360-9a3a5a9129d9",
   "metadata": {},
   "outputs": [
    {
     "data": {
      "text/plain": [
       "(array([1., 2., 3., 4., 5., 6., 7.]),\n",
       " tensor([1., 2., 3., 4., 5., 6., 7.], dtype=torch.float64))"
      ]
     },
     "execution_count": 114,
     "metadata": {},
     "output_type": "execute_result"
    }
   ],
   "source": [
    "# NumPy array to tensor\n",
    "import torch\n",
    "import numpy as np\n",
    "array = np.arange(1.0, 8.0)\n",
    "tensor = torch.from_numpy(array)\n",
    "\n",
    "array, tensor"
   ]
  },
  {
   "cell_type": "markdown",
   "id": "72eb648f-f45c-4b0a-bbe9-4e336ade5f9d",
   "metadata": {},
   "source": [
    "Note: By default, NumPy arrays are created with the datatype float64 and if you convert it to a PyTorch tensor, it'll keep the same datatype (as above).\n",
    "\n",
    "However, many PyTorch calculations default to using float32.\n",
    "\n",
    "So if you want to convert your NumPy array (float64) -> PyTorch tensor (float64) -> PyTorch tensor (float32), you can use tensor = torch.from_numpy(array).type(torch.float32)."
   ]
  },
  {
   "cell_type": "code",
   "execution_count": 115,
   "id": "256f57ba-57b0-40ec-8d34-9025b27a3736",
   "metadata": {},
   "outputs": [
    {
     "data": {
      "text/plain": [
       "(tensor([1., 1., 1., 1., 1., 1., 1.]),\n",
       " array([1., 1., 1., 1., 1., 1., 1.], dtype=float32))"
      ]
     },
     "execution_count": 115,
     "metadata": {},
     "output_type": "execute_result"
    }
   ],
   "source": [
    "tensor = torch.ones(7) # create a tensor of ones with dtype=float32\n",
    "numpy_tensor = tensor.numpy() # will be dtype=float32 unless changed\n",
    "tensor, numpy_tensor"
   ]
  },
  {
   "cell_type": "markdown",
   "id": "f5dfdd04-23c6-42ce-8ea9-4e559dff61d5",
   "metadata": {},
   "source": [
    "# Randomness"
   ]
  },
  {
   "cell_type": "markdown",
   "id": "c76c3fd7-e5d5-4abc-84fc-b1eb1e323d56",
   "metadata": {},
   "source": [
    "Although randomness is nice and powerful, sometimes you'd like there to be a little less randomness. So you can perform repeatable experiments. \n",
    "That's where `torch.manual_seed(seed)` comes in, where seed is an integer (like 42 but it could be anything) that flavours the randomness."
   ]
  },
  {
   "cell_type": "code",
   "execution_count": 118,
   "id": "3c3086a0-9ce0-4a38-800e-460cc71302d4",
   "metadata": {},
   "outputs": [
    {
     "name": "stdout",
     "output_type": "stream",
     "text": [
      "Tensor C:\n",
      "tensor([[0.8823, 0.9150, 0.3829, 0.9593],\n",
      "        [0.3904, 0.6009, 0.2566, 0.7936],\n",
      "        [0.9408, 0.1332, 0.9346, 0.5936]])\n",
      "\n",
      "Tensor D:\n",
      "tensor([[0.8823, 0.9150, 0.3829, 0.9593],\n",
      "        [0.3904, 0.6009, 0.2566, 0.7936],\n",
      "        [0.9408, 0.1332, 0.9346, 0.5936]])\n",
      "\n",
      "Does Tensor C equal Tensor D? (anywhere)\n"
     ]
    },
    {
     "data": {
      "text/plain": [
       "tensor([[True, True, True, True],\n",
       "        [True, True, True, True],\n",
       "        [True, True, True, True]])"
      ]
     },
     "execution_count": 118,
     "metadata": {},
     "output_type": "execute_result"
    }
   ],
   "source": [
    "import torch\n",
    "import random\n",
    "\n",
    "# # Set the random seed\n",
    "RANDOM_SEED=42 # try changing this to different values and see what happens to the numbers below\n",
    "torch.manual_seed(seed=RANDOM_SEED) \n",
    "random_tensor_C = torch.rand(3, 4)\n",
    "\n",
    "# Have to reset the seed every time a new rand() is called \n",
    "# Without this, tensor_D would be different to tensor_C \n",
    "torch.manual_seed(seed=RANDOM_SEED) # try commenting this line out and seeing what happens\n",
    "random_tensor_D = torch.rand(3, 4)\n",
    "\n",
    "print(f\"Tensor C:\\n{random_tensor_C}\\n\")\n",
    "print(f\"Tensor D:\\n{random_tensor_D}\\n\")\n",
    "print(f\"Does Tensor C equal Tensor D? (anywhere)\")\n",
    "random_tensor_C == random_tensor_D"
   ]
  },
  {
   "cell_type": "markdown",
   "id": "01919ebb-a1c3-40f3-9c18-5cfede7e2c98",
   "metadata": {},
   "source": [
    "# Linear Layer multiplication"
   ]
  },
  {
   "cell_type": "code",
   "execution_count": 66,
   "id": "49909383-ac0a-4a36-a583-9bbe9489d4c6",
   "metadata": {},
   "outputs": [
    {
     "name": "stdout",
     "output_type": "stream",
     "text": [
      "Input shape: torch.Size([3, 2])\n",
      "\n",
      "Output:\n",
      "tensor([[-0.2539,  0.2555,  0.3376,  0.4656, -0.0777,  1.0456],\n",
      "        [-0.0635, -0.0787,  0.0365,  0.2090, -0.2524,  0.7780],\n",
      "        [-0.2150,  0.1119, -0.0063,  0.1786, -0.2141,  0.7447]],\n",
      "       grad_fn=<AddmmBackward0>)\n",
      "\n",
      "Output shape: torch.Size([3, 6])\n"
     ]
    }
   ],
   "source": [
    "torch.manual_seed(42)\n",
    "\n",
    "x = torch.rand(size=(3,2))\n",
    "# This uses matrix multiplication\n",
    "linear = torch.nn.Linear(in_features=2, # in_features = matches inner dimension of input \n",
    "                         out_features=6) # out_features = describes outer value \n",
    "output = linear(x)\n",
    "print(f\"Input shape: {x.shape}\\n\")\n",
    "print(f\"Output:\\n{output}\\n\\nOutput shape: {output.shape}\")"
   ]
  },
  {
   "cell_type": "markdown",
   "id": "b99c809a-071b-4028-8de0-0dc72f82a4f9",
   "metadata": {},
   "source": [
    "output shape = (3*2) * (2*6) = (3*6)"
   ]
  }
 ],
 "metadata": {
  "kernelspec": {
   "display_name": "Python 3 (ipykernel)",
   "language": "python",
   "name": "python3"
  },
  "language_info": {
   "codemirror_mode": {
    "name": "ipython",
    "version": 3
   },
   "file_extension": ".py",
   "mimetype": "text/x-python",
   "name": "python",
   "nbconvert_exporter": "python",
   "pygments_lexer": "ipython3",
   "version": "3.9.6"
  }
 },
 "nbformat": 4,
 "nbformat_minor": 5
}
