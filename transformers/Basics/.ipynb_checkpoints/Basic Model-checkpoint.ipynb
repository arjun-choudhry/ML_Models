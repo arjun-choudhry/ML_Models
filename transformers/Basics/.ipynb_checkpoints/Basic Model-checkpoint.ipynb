{
 "cells": [
  {
   "cell_type": "code",
   "execution_count": 1,
   "id": "2630754d-fe7b-4f1c-ae81-d25f26092384",
   "metadata": {},
   "outputs": [],
   "source": [
    "import torch\n",
    "from torch import nn\n",
    "import matplotlib.pyplot as plt\n",
    "from pathlib import Path"
   ]
  },
  {
   "cell_type": "code",
   "execution_count": 2,
   "id": "77a82f66-fe73-4aab-bc04-06128693f902",
   "metadata": {},
   "outputs": [],
   "source": [
    "def get_device():\n",
    "    if torch.cuda.is_available():\n",
    "        return 'cuda'\n",
    "    elif torch.backends.mps.is_available():\n",
    "        return 'mps'\n",
    "    else:\n",
    "        return 'cpu'\n",
    "\n",
    "device = get_device()"
   ]
  },
  {
   "cell_type": "markdown",
   "id": "0f0132ce-3198-46f0-8715-ed6e9635e9c9",
   "metadata": {},
   "source": [
    "# Data"
   ]
  },
  {
   "cell_type": "code",
   "execution_count": 3,
   "id": "d5324d4f-e2ea-49f9-b35a-e4694834e483",
   "metadata": {},
   "outputs": [
    {
     "name": "stdout",
     "output_type": "stream",
     "text": [
      "tensor([[0.0000e+00],\n",
      "        [2.0000e+00],\n",
      "        [4.0000e+00],\n",
      "        ...,\n",
      "        [2.9940e+03],\n",
      "        [2.9960e+03],\n",
      "        [2.9980e+03]], device='mps:0')\n",
      "tensor([[7.0000e+00],\n",
      "        [1.5000e+01],\n",
      "        [2.3000e+01],\n",
      "        ...,\n",
      "        [1.1983e+04],\n",
      "        [1.1991e+04],\n",
      "        [1.1999e+04]], device='mps:0')\n"
     ]
    }
   ],
   "source": [
    "x = torch.arange(0, 3000, 2).type(torch.float32).unsqueeze(dim=1).to(device)\n",
    "y = ((x*4)+7).to(device)\n",
    "\n",
    "print(x)\n",
    "print(y)"
   ]
  },
  {
   "cell_type": "code",
   "execution_count": 4,
   "id": "8e1d1cac-d1f4-4e71-bd25-68cd9913b877",
   "metadata": {},
   "outputs": [],
   "source": [
    "train_split = int(len(x)*0.95)\n",
    "\n",
    "x_train, y_train = x[:train_split], y[:train_split]\n",
    "x_test, y_test = x[train_split:], y[train_split:]"
   ]
  },
  {
   "cell_type": "markdown",
   "id": "53ad0467-b2ad-49d1-9e97-4215e79a3be9",
   "metadata": {},
   "source": [
    "# Model"
   ]
  },
  {
   "cell_type": "code",
   "execution_count": 5,
   "id": "d0406173-7503-4a4a-bc46-f8be755489c3",
   "metadata": {},
   "outputs": [],
   "source": [
    "class LinearModel(nn.Module):\n",
    "    def __init__(self):\n",
    "        super().__init__()\n",
    "        self.W = nn.Parameter(\n",
    "            torch.rand(size=(1,), dtype=torch.float32),\n",
    "            requires_grad=True\n",
    "        )\n",
    "        self.B = nn.Parameter(\n",
    "            torch.rand(size=(1,), dtype=torch.float32),\n",
    "            requires_grad=True\n",
    "        )\n",
    "\n",
    "    def forward(self, x):\n",
    "        return self.W*x + self.B"
   ]
  },
  {
   "cell_type": "markdown",
   "id": "0fb9462a-743f-427e-8a71-2ae5567612ce",
   "metadata": {},
   "source": [
    "# Training"
   ]
  },
  {
   "cell_type": "code",
   "execution_count": 6,
   "id": "0e01eeaf-318f-4517-9bc0-029c4decb642",
   "metadata": {},
   "outputs": [],
   "source": [
    "model = LinearModel().to(device)\n",
    "loss_fn = nn.L1Loss()\n",
    "optimizer = torch.optim.Adam(model.parameters(), lr=0.001)\n",
    "\n",
    "n_epochs = 30000"
   ]
  },
  {
   "cell_type": "markdown",
   "id": "1da8500e-de76-4008-b228-2f0bb5a1c072",
   "metadata": {},
   "source": [
    "Other common losses:\n",
    "- MAE: torch.nn.L1Loss()\n",
    "- MSE: torch.nn.MSELoss()\n",
    "- Binary Cross Entropy: torch.nn.BCELoss()\n",
    "\n",
    "Other common optimizers:\n",
    "- SGD: torch.optim.SGD(lr=0.001)"
   ]
  },
  {
   "cell_type": "code",
   "execution_count": 7,
   "id": "82a17bed-a0d5-43ba-b9cb-687de6ad2839",
   "metadata": {},
   "outputs": [
    {
     "name": "stdout",
     "output_type": "stream",
     "text": [
      "Model States before training: OrderedDict([('W', tensor([0.3710], device='mps:0')), ('B', tensor([0.7553], device='mps:0'))])\n"
     ]
    }
   ],
   "source": [
    "print(f\"Model States before training: {model.state_dict()}\")"
   ]
  },
  {
   "cell_type": "code",
   "execution_count": 8,
   "id": "31cc2a18-c06c-4636-84e6-a71381e10bad",
   "metadata": {},
   "outputs": [
    {
     "name": "stdout",
     "output_type": "stream",
     "text": [
      "step: 0/30000: training loss=5173.9775 | test_loss:10614.5918\n",
      "step: 1500/30000: training loss=3036.4309 | test_loss:6226.9961\n",
      "step: 3000/30000: training loss=899.0643 | test_loss:1839.7700\n",
      "step: 4500/30000: training loss=0.9091 | test_loss:0.9898\n",
      "step: 6000/30000: training loss=0.4661 | test_loss:0.5096\n",
      "step: 7500/30000: training loss=0.5111 | test_loss:1.4231\n",
      "step: 9000/30000: training loss=0.0819 | test_loss:0.1645\n",
      "step: 10500/30000: training loss=0.0584 | test_loss:0.1924\n",
      "step: 12000/30000: training loss=0.0278 | test_loss:0.0363\n",
      "step: 13500/30000: training loss=0.0088 | test_loss:0.2928\n",
      "step: 15000/30000: training loss=0.1056 | test_loss:0.0837\n",
      "step: 16500/30000: training loss=0.1277 | test_loss:0.0418\n",
      "step: 18000/30000: training loss=0.0115 | test_loss:0.0059\n",
      "step: 19500/30000: training loss=0.0081 | test_loss:0.0000\n",
      "step: 21000/30000: training loss=0.0699 | test_loss:0.1791\n",
      "step: 22500/30000: training loss=0.1233 | test_loss:0.2433\n",
      "step: 24000/30000: training loss=0.1406 | test_loss:0.2754\n",
      "step: 25500/30000: training loss=0.1477 | test_loss:0.2879\n",
      "step: 27000/30000: training loss=0.1351 | test_loss:0.2342\n",
      "step: 28500/30000: training loss=0.0611 | test_loss:0.0976\n"
     ]
    }
   ],
   "source": [
    "epoch_count = []\n",
    "loss_values = []\n",
    "test_loss_values = []\n",
    "\n",
    "for i in range(n_epochs):\n",
    "    optimizer.zero_grad()\n",
    "\n",
    "    model.train()\n",
    "    \n",
    "    out = model(x_train)\n",
    "    loss = loss_fn(out, y_train)\n",
    "    loss.backward()\n",
    "    optimizer.step()\n",
    "\n",
    "    if i % 1500 == 0:\n",
    "        model.eval()\n",
    "        epoch_count.append(i)\n",
    "        with torch.inference_mode():\n",
    "            test_pred = model(x_test)\n",
    "            test_loss = loss_fn(test_pred, y_test)\n",
    "\n",
    "        loss_values.append(loss.detach().item())\n",
    "        test_loss_values.append(test_loss.detach().item())\n",
    "        print(f\"step: {i}/{n_epochs}: training loss={loss.item():.4f} | test_loss:{test_loss.item():.4f}\")"
   ]
  },
  {
   "cell_type": "code",
   "execution_count": 9,
   "id": "5f8d9ccd-ac3f-4e5d-bc8d-d25c23c00a7f",
   "metadata": {},
   "outputs": [
    {
     "data": {
      "image/png": "[encoded data removed]",
      "text/plain": [
       "<Figure size 640x480 with 1 Axes>"
      ]
     },
     "metadata": {},
     "output_type": "display_data"
    }
   ],
   "source": [
    "def plot_loss(epoch, loss, test_loss):\n",
    "    plt.plot(epoch, loss, label='Training Loss')\n",
    "    plt.plot(epoch, test_loss, label='Test Loss')\n",
    "    plt.legend()\n",
    "\n",
    "plot_loss(epoch_count, loss_values, test_loss_values)\n"
   ]
  },
  {
   "cell_type": "code",
   "execution_count": 10,
   "id": "d1616739-6a89-45d3-9484-9d82ced1d45d",
   "metadata": {},
   "outputs": [
    {
     "name": "stdout",
     "output_type": "stream",
     "text": [
      "Model States after training: OrderedDict([('W', tensor([4.0000], device='mps:0')), ('B', tensor([7.0000], device='mps:0'))])\n"
     ]
    }
   ],
   "source": [
    "print(f\"Model States after training: {model.state_dict()}\")"
   ]
  },
  {
   "cell_type": "markdown",
   "id": "5ea3da02-ed6a-4b63-ac6b-ede42d1a74c1",
   "metadata": {},
   "source": [
    "# Inference"
   ]
  },
  {
   "cell_type": "markdown",
   "id": "617f8213-b907-4df9-bcc1-4d5fa2389c2d",
   "metadata": {},
   "source": [
    "You probably noticed we used `torch.inference_mode()` as a context manager to make the predictions.\n",
    "\n",
    "As the name suggests, `torch.inference_mode()` is used when using a model for inference (making predictions).\n",
    "\n",
    "`torch.inference_mode()` turns off a bunch of things (like gradient tracking, which is necessary for training but not for inference) to make forward-passes (data going through the forward() method) faster.\n",
    "\n",
    "In older PyTorch code, you may also see `torch.no_grad()` being used for inference. While `torch.inference_mode()` and `torch.no_grad()` do similar things, `torch.inference_mode()` is newer, potentially faster and preferred. "
   ]
  },
  {
   "cell_type": "code",
   "execution_count": 11,
   "id": "d0168b48-eb52-4612-941d-0ff2f12058b1",
   "metadata": {},
   "outputs": [],
   "source": [
    "model.eval()\n",
    "with torch.inference_mode():\n",
    "    pred = model(x_test)"
   ]
  },
  {
   "cell_type": "markdown",
   "id": "63c430c3-ab7f-411f-9fdb-ec0a2fb24575",
   "metadata": {},
   "source": [
    "# Plotting"
   ]
  },
  {
   "cell_type": "code",
   "execution_count": 12,
   "id": "a444daec-9a72-4f70-b4e7-f5373c0baa56",
   "metadata": {},
   "outputs": [
    {
     "data": {
      "text/plain": [
       "<matplotlib.legend.Legend at 0x1389880a0>"
      ]
     },
     "execution_count": 12,
     "metadata": {},
     "output_type": "execute_result"
    },
    {
     "data": {
      "image/png": "[encoded data removed]",
      "text/plain": [
       "<Figure size 640x480 with 1 Axes>"
      ]
     },
     "metadata": {},
     "output_type": "display_data"
    }
   ],
   "source": [
    "plt.scatter(x_test.cpu(), pred.detach().cpu(), s=4, label='Predictions')\n",
    "plt.scatter(x_test.cpu(), y_test.cpu(), s=4, label='Actual Value')\n",
    "\n",
    "plt.xlabel('Input Value')\n",
    "plt.legend()"
   ]
  },
  {
   "cell_type": "markdown",
   "id": "27bc4819-694b-46be-87f6-1e69280bfa0d",
   "metadata": {},
   "source": [
    "# Saving the model"
   ]
  },
  {
   "cell_type": "code",
   "execution_count": 13,
   "id": "d6f52369-2a7c-4da2-b8b3-9bc13b583da0",
   "metadata": {},
   "outputs": [
    {
     "name": "stdout",
     "output_type": "stream",
     "text": [
      "Saving model to: ml_models/basic_model.pth\n"
     ]
    }
   ],
   "source": [
    "# 1. Create models directory \n",
    "MODEL_PATH = Path(\"ml_models\")\n",
    "MODEL_PATH.mkdir(parents=True, exist_ok=True)\n",
    "\n",
    "# 2. Create model save path \n",
    "MODEL_NAME = \"basic_model.pth\"\n",
    "MODEL_SAVE_PATH = MODEL_PATH / MODEL_NAME\n",
    "\n",
    "# 3. Save the model state dict \n",
    "print(f\"Saving model to: {MODEL_SAVE_PATH}\")\n",
    "torch.save(obj=model.state_dict(), f=MODEL_SAVE_PATH)"
   ]
  },
  {
   "cell_type": "markdown",
   "id": "18ca08ae-3432-4001-b476-8ace037f752d",
   "metadata": {},
   "source": [
    "# Loading the model"
   ]
  },
  {
   "cell_type": "code",
   "execution_count": 14,
   "id": "ae5c9c37-0277-4a08-b788-09c26ffd1d19",
   "metadata": {},
   "outputs": [
    {
     "data": {
      "text/plain": [
       "<All keys matched successfully>"
      ]
     },
     "execution_count": 14,
     "metadata": {},
     "output_type": "execute_result"
    }
   ],
   "source": [
    "# Instantiate a new instance of our model (this will be instantiated with random weights)\n",
    "loaded_model = LinearModel()\n",
    "\n",
    "# Load the state_dict of our saved model (this will update the new instance of our model with trained weights)\n",
    "loaded_model.load_state_dict(torch.load(f=MODEL_SAVE_PATH, weights_only=True))"
   ]
  },
  {
   "cell_type": "code",
   "execution_count": 15,
   "id": "60a754e5-9448-4e8e-a990-8aa9f9a6ef5e",
   "metadata": {},
   "outputs": [
    {
     "data": {
      "text/plain": [
       "OrderedDict([('W', tensor([4.0000])), ('B', tensor([7.0000]))])"
      ]
     },
     "execution_count": 15,
     "metadata": {},
     "output_type": "execute_result"
    }
   ],
   "source": [
    "loaded_model.state_dict()"
   ]
  }
 ],
 "metadata": {
  "kernelspec": {
   "display_name": "Python 3 (ipykernel)",
   "language": "python",
   "name": "python3"
  },
  "language_info": {
   "codemirror_mode": {
    "name": "ipython",
    "version": 3
   },
   "file_extension": ".py",
   "mimetype": "text/x-python",
   "name": "python",
   "nbconvert_exporter": "python",
   "pygments_lexer": "ipython3",
   "version": "3.9.6"
  }
 },
 "nbformat": 4,
 "nbformat_minor": 5
}
