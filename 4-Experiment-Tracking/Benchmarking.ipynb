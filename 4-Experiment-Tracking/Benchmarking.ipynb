{
 "cells": [
  {
   "cell_type": "code",
   "execution_count": 45,
   "id": "1c0de789-5907-4203-8983-80684d791e0d",
   "metadata": {},
   "outputs": [],
   "source": [
    "import torch\n",
    "import timeit\n",
    "\n",
    "import torch.utils.benchmark as benchmark"
   ]
  },
  {
   "cell_type": "markdown",
   "id": "527410d7-7aca-4a78-9fa5-257a274b0727",
   "metadata": {},
   "source": [
    "## Setup"
   ]
  },
  {
   "cell_type": "code",
   "execution_count": 43,
   "id": "975a154d-850d-488a-ac40-21977ceaadc2",
   "metadata": {},
   "outputs": [],
   "source": [
    "def batched_dot_mul_sum(a, b):\n",
    "    '''Computes batched dot by multiplying and summing'''\n",
    "    return a.mul(b).sum(-1)\n",
    "\n",
    "x = torch.randn(10000, 64)"
   ]
  },
  {
   "cell_type": "markdown",
   "id": "f6bad4cb-a5d0-4fa1-a65e-a828e2846142",
   "metadata": {},
   "source": [
    "## Benchmarking with timeit.Timer"
   ]
  },
  {
   "cell_type": "code",
   "execution_count": 44,
   "id": "888d077f-5dad-4a11-b825-c76eadce8a2c",
   "metadata": {},
   "outputs": [
    {
     "name": "stdout",
     "output_type": "stream",
     "text": [
      "mul_sum(x, x):  3735.7 us\n"
     ]
    }
   ],
   "source": [
    "t0 = timeit.Timer(\n",
    "    stmt='batched_dot_mul_sum(x, a)',\n",
    "    setup='from __main__ import batched_dot_mul_sum',\n",
    "    globals={'x': x, 'a': x})\n",
    "\n",
    "print(f'mul_sum(x, x):  {t0.timeit(10) / 10 * 1e6:>5.1f} us')"
   ]
  },
  {
   "cell_type": "markdown",
   "id": "88e5435b-21e4-4859-9c26-de78915c72ad",
   "metadata": {},
   "source": [
    "Create a Timer instance with the given statement, setup code and timer function and run its timeit() method with number executions. The optional globals argument specifies a namespace in which to execute the code."
   ]
  },
  {
   "cell_type": "markdown",
   "id": "6e4b14c6-bc56-42a0-9aca-0d75f80291db",
   "metadata": {},
   "source": [
    "## Benchmarking with torch.utils.benchmark.Timer\n",
    "\n",
    "Even though the APIs are the same for the basic functionality, there are some important differences. benchmark.Timer.timeit() returns the time per run as opposed to the total runtime like timeit.Timer.timeit() does. PyTorch benchmark module also provides formatted string representations for printing the results.\n",
    "\n",
    "Another important difference, and the reason why the results diverge is that PyTorch benchmark module runs in a single thread by default. We can change the number of threads with the num_threads argument. Running benchmark with all threads available gives similar results as the timeit module. More importantly, which version is faster depends on how many threads we run the code with. \n",
    "\n",
    "Another important difference is that PyTorch’s benchmark module takes care of warmups, whereas timeit module doesn't. "
   ]
  },
  {
   "cell_type": "code",
   "execution_count": 47,
   "id": "94e515a1-7991-4788-aa93-b5ec50cab387",
   "metadata": {},
   "outputs": [
    {
     "name": "stdout",
     "output_type": "stream",
     "text": [
      "<torch.utils.benchmark.utils.common.Measurement object at 0x10c79cd60>\n",
      "batched_dot_mul_sum(x, x)\n",
      "setup: from __main__ import batched_dot_mul_sum\n",
      "  698.03 us\n",
      "  1 measurement, 10 runs , 1 thread\n"
     ]
    }
   ],
   "source": [
    "t0 = benchmark.Timer(\n",
    "    stmt='batched_dot_mul_sum(x, x)',\n",
    "    setup='from __main__ import batched_dot_mul_sum',\n",
    "    globals={'x': x})\n",
    "\n",
    "print(t0.timeit(10))"
   ]
  },
  {
   "cell_type": "markdown",
   "id": "ce8020b1-617a-4a80-bb62-24999c96baea",
   "metadata": {},
   "source": [
    "#### Adding more threads"
   ]
  },
  {
   "cell_type": "code",
   "execution_count": 51,
   "id": "31cc190c-c751-42fc-bd83-821eeb02b67b",
   "metadata": {},
   "outputs": [
    {
     "name": "stdout",
     "output_type": "stream",
     "text": [
      "<torch.utils.benchmark.utils.common.Measurement object at 0x10c68f2b0>\n",
      "batched_dot_mul_sum(x, x)\n",
      "setup: from __main__ import batched_dot_mul_sum\n",
      "  1.14 ms\n",
      "  1 measurement, 10 runs , 10 threads\n"
     ]
    }
   ],
   "source": [
    "t0 = benchmark.Timer(\n",
    "    stmt='batched_dot_mul_sum(x, x)',\n",
    "    setup='from __main__ import batched_dot_mul_sum',\n",
    "    num_threads=10,\n",
    "    globals={'x': x})\n",
    "\n",
    "print(t0.timeit(10))"
   ]
  },
  {
   "cell_type": "markdown",
   "id": "74c69787-83df-4122-b6f2-ef2a5742a2c3",
   "metadata": {},
   "source": [
    "#### Playing with more attributes\n",
    "torch.utils.benchmark.Timer takes several additional arguments including: label, sub_label, description and env which change the __repr__ of the measurement object returned and are used for grouping the results (more on this later)"
   ]
  },
  {
   "cell_type": "code",
   "execution_count": 52,
   "id": "a79b71fa-88d1-41dd-b90d-f7163abf7c5d",
   "metadata": {},
   "outputs": [
    {
     "name": "stdout",
     "output_type": "stream",
     "text": [
      "<torch.utils.benchmark.utils.common.Measurement object at 0x10c7e5a00>\n",
      "Multithreaded batch dot: Implemented using mul and sum\n",
      "setup: from __main__ import batched_dot_mul_sum\n",
      "  588.45 us\n",
      "  1 measurement, 10 runs , 10 threads\n"
     ]
    }
   ],
   "source": [
    "t0 = benchmark.Timer(\n",
    "    stmt='batched_dot_mul_sum(x, x)',\n",
    "    setup='from __main__ import batched_dot_mul_sum',\n",
    "    globals={'x': x},\n",
    "    num_threads=10,\n",
    "    label='Multithreaded batch dot',\n",
    "    sub_label='Implemented using mul and sum')\n",
    "\n",
    "print(t0.timeit(10))"
   ]
  },
  {
   "cell_type": "code",
   "execution_count": null,
   "id": "c3253da5-0d48-491b-8cdb-b0cd502efb2b",
   "metadata": {},
   "outputs": [],
   "source": []
  }
 ],
 "metadata": {
  "kernelspec": {
   "display_name": "Python 3 (ipykernel)",
   "language": "python",
   "name": "python3"
  },
  "language_info": {
   "codemirror_mode": {
    "name": "ipython",
    "version": 3
   },
   "file_extension": ".py",
   "mimetype": "text/x-python",
   "name": "python",
   "nbconvert_exporter": "python",
   "pygments_lexer": "ipython3",
   "version": "3.9.6"
  }
 },
 "nbformat": 4,
 "nbformat_minor": 5
}
