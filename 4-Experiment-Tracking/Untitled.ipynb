{
 "cells": [
  {
   "cell_type": "code",
   "execution_count": 38,
   "id": "3a7e4da6-cb0f-4650-b0ba-5c5b9c0af366",
   "metadata": {},
   "outputs": [],
   "source": [
    "import torch, torchdata\n",
    "from torchdata.datapipes.iter import IterDataPipe\n",
    "from torch.utils.data import functional_datapipe, DataLoader, Dataset"
   ]
  },
  {
   "cell_type": "code",
   "execution_count": 2,
   "id": "7f6fec8a-9e9d-4347-90de-45345190f990",
   "metadata": {},
   "outputs": [],
   "source": [
    "a = torch.arange(0,100,2)"
   ]
  },
  {
   "cell_type": "markdown",
   "id": "caa966d0-54ac-48a0-a916-b16eb5197ee8",
   "metadata": {},
   "source": [
    "# Iterable Datapipe"
   ]
  },
  {
   "cell_type": "code",
   "execution_count": 27,
   "id": "d100a5c9-c97b-4db7-927d-186f51bfcc47",
   "metadata": {},
   "outputs": [],
   "source": [
    "b = torchdata.datapipes.iter.IterableWrapper(a)"
   ]
  },
  {
   "cell_type": "code",
   "execution_count": 28,
   "id": "36b830aa-ade0-4bbe-a885-d913f307c83c",
   "metadata": {},
   "outputs": [],
   "source": [
    "iter_b = iter(b)"
   ]
  },
  {
   "cell_type": "code",
   "execution_count": 29,
   "id": "ef75c564-4ae6-420f-8b07-d9a89b633045",
   "metadata": {},
   "outputs": [
    {
     "data": {
      "text/plain": [
       "tensor(0)"
      ]
     },
     "execution_count": 29,
     "metadata": {},
     "output_type": "execute_result"
    }
   ],
   "source": [
    "next(iter_b)"
   ]
  },
  {
   "cell_type": "code",
   "execution_count": 31,
   "id": "56379465-bfcb-4c52-8d10-0011d540b71d",
   "metadata": {},
   "outputs": [],
   "source": [
    "@functional_datapipe('edit_fn_4')\n",
    "class EditDataPipe(IterDataPipe):\n",
    "    def __init__(self, pipe, multiplier):\n",
    "        self.pipe = pipe\n",
    "        self.multiplier = multiplier\n",
    "\n",
    "    def __iter__(self):\n",
    "        for sample in self.pipe:\n",
    "            yield sample*self.multiplier\n",
    "    "
   ]
  },
  {
   "cell_type": "code",
   "execution_count": 32,
   "id": "3d88aa46-77f6-4be8-a85e-118f2243f260",
   "metadata": {},
   "outputs": [],
   "source": [
    "c = b.edit_fn_4(multiplier=5)\n",
    "iter_c = iter(c)"
   ]
  },
  {
   "cell_type": "code",
   "execution_count": 33,
   "id": "1bdef4ef-d518-46b9-8135-7cd268174e8c",
   "metadata": {},
   "outputs": [
    {
     "data": {
      "text/plain": [
       "tensor(0)"
      ]
     },
     "execution_count": 33,
     "metadata": {},
     "output_type": "execute_result"
    }
   ],
   "source": [
    "next(iter_c)"
   ]
  },
  {
   "cell_type": "code",
   "execution_count": 36,
   "id": "6f956c9d-c980-44da-9895-3d648c3a5555",
   "metadata": {},
   "outputs": [],
   "source": [
    "dataloader = DataLoader(c, batch_size=5)"
   ]
  },
  {
   "cell_type": "code",
   "execution_count": 37,
   "id": "8fdff3ac-68bb-4948-9b20-c0d6946dfc28",
   "metadata": {},
   "outputs": [
    {
     "data": {
      "text/plain": [
       "tensor([ 0, 10, 20, 30, 40])"
      ]
     },
     "execution_count": 37,
     "metadata": {},
     "output_type": "execute_result"
    }
   ],
   "source": [
    "next(iter(dataloader))"
   ]
  },
  {
   "cell_type": "markdown",
   "id": "7fe074f4-bf48-4e97-8c72-ca9c8a15b9bd",
   "metadata": {},
   "source": [
    "## Map-based Dataset"
   ]
  },
  {
   "cell_type": "code",
   "execution_count": 51,
   "id": "7ef51be9-1c86-447b-9fb3-10fbf14ea6af",
   "metadata": {},
   "outputs": [],
   "source": [
    "class EditMapDataset(Dataset):\n",
    "    def __init__(self, dataset):\n",
    "        self.dataset = dataset\n",
    "\n",
    "    def __len__(self):\n",
    "        return len(self.dataset)\n",
    "\n",
    "    def __getitem__(self, idx):\n",
    "        return self.dataset[idx]"
   ]
  },
  {
   "cell_type": "code",
   "execution_count": 62,
   "id": "5a0cf5e9-ba4b-400d-9b9c-ffb82fbbcea0",
   "metadata": {},
   "outputs": [],
   "source": [
    "class MultiplyMapDataset(Dataset):\n",
    "    def __init__(self, dataset, multiplier):\n",
    "        self.dataset = dataset\n",
    "        self.multiplier = multiplier\n",
    "\n",
    "    def __len__(self):\n",
    "        return len(self.dataset)\n",
    "\n",
    "    def __getitem__(self, idx):\n",
    "        return self.dataset[idx] * self.multiplier"
   ]
  },
  {
   "cell_type": "code",
   "execution_count": 64,
   "id": "3b13e22f-02a6-47b0-bc0e-36c070d0cec8",
   "metadata": {},
   "outputs": [],
   "source": [
    "b = MultiplyMapDataset(EditMapDataset(a), multiplier=4)"
   ]
  },
  {
   "cell_type": "code",
   "execution_count": 65,
   "id": "e78cc8d7-2377-4f9f-8bab-9c74620a4d19",
   "metadata": {},
   "outputs": [
    {
     "data": {
      "text/plain": [
       "tensor(24)"
      ]
     },
     "execution_count": 65,
     "metadata": {},
     "output_type": "execute_result"
    }
   ],
   "source": [
    "b[3]"
   ]
  },
  {
   "cell_type": "code",
   "execution_count": 66,
   "id": "aed97f69-1361-4ea5-80e6-93ccfddd0794",
   "metadata": {},
   "outputs": [],
   "source": [
    "dataloader = DataLoader(b, batch_size=5)"
   ]
  },
  {
   "cell_type": "code",
   "execution_count": 67,
   "id": "920843e9-fd1b-408b-b82c-ef9cfa963372",
   "metadata": {},
   "outputs": [
    {
     "data": {
      "text/plain": [
       "tensor([ 0,  8, 16, 24, 32])"
      ]
     },
     "execution_count": 67,
     "metadata": {},
     "output_type": "execute_result"
    }
   ],
   "source": [
    "next(iter(dataloader))"
   ]
  },
  {
   "cell_type": "code",
   "execution_count": null,
   "id": "8e926410-2828-4a0c-b9fa-615b978ef551",
   "metadata": {},
   "outputs": [],
   "source": []
  }
 ],
 "metadata": {
  "kernelspec": {
   "display_name": "Python 3 (ipykernel)",
   "language": "python",
   "name": "python3"
  },
  "language_info": {
   "codemirror_mode": {
    "name": "ipython",
    "version": 3
   },
   "file_extension": ".py",
   "mimetype": "text/x-python",
   "name": "python",
   "nbconvert_exporter": "python",
   "pygments_lexer": "ipython3",
   "version": "3.9.6"
  }
 },
 "nbformat": 4,
 "nbformat_minor": 5
}
