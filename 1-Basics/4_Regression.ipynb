{
 "cells": [
  {
   "cell_type": "code",
   "execution_count": 1,
   "id": "cb9141c8-16a9-400b-9d58-b3794ce93dcc",
   "metadata": {},
   "outputs": [
    {
     "name": "stderr",
     "output_type": "stream",
     "text": [
      "Matplotlib is building the font cache; this may take a moment.\n"
     ]
    }
   ],
   "source": [
    "import torch\n",
    "from torch import nn\n",
    "import matplotlib.pyplot as plt"
   ]
  },
  {
   "cell_type": "code",
   "execution_count": 2,
   "id": "cc8a1bc1-212e-4d3c-b8de-2bae27fd9340",
   "metadata": {},
   "outputs": [],
   "source": [
    "def get_device():\n",
    "    if torch.cuda.is_available():\n",
    "        return 'cuda'\n",
    "    elif torch.backends.mps.is_available():\n",
    "        return 'mps'\n",
    "    else:\n",
    "        return 'cpu'\n",
    "\n",
    "device = get_device()"
   ]
  },
  {
   "cell_type": "markdown",
   "id": "e41bd302-7c99-40d8-98d3-4b0bd1ffc345",
   "metadata": {},
   "source": [
    "# Data"
   ]
  },
  {
   "cell_type": "code",
   "execution_count": 3,
   "id": "c1ae8463-7804-42da-94f6-2d36032fa0d9",
   "metadata": {},
   "outputs": [
    {
     "name": "stdout",
     "output_type": "stream",
     "text": [
      "tensor([[0.0000e+00],\n",
      "        [2.0000e+00],\n",
      "        [4.0000e+00],\n",
      "        ...,\n",
      "        [2.9940e+03],\n",
      "        [2.9960e+03],\n",
      "        [2.9980e+03]], device='mps:0')\n",
      "tensor([[0.0000e+00],\n",
      "        [8.0000e+00],\n",
      "        [1.6000e+01],\n",
      "        ...,\n",
      "        [1.1976e+04],\n",
      "        [1.1984e+04],\n",
      "        [1.1992e+04]], device='mps:0')\n"
     ]
    }
   ],
   "source": [
    "x = torch.arange(0, 3000, 2).type(torch.float32).unsqueeze(dim=1).to(device)\n",
    "y = (x*4).to(device)\n",
    "\n",
    "print(x)\n",
    "print(y)"
   ]
  },
  {
   "cell_type": "code",
   "execution_count": 15,
   "id": "6fe9fc57-1294-443b-9002-866533951844",
   "metadata": {},
   "outputs": [],
   "source": [
    "train_split = int(len(x)*0.95)\n",
    "\n",
    "x_train, y_train = x[:train_split], y[:train_split]\n",
    "x_test, y_test = x[train_split:], y[train_split:]"
   ]
  },
  {
   "cell_type": "markdown",
   "id": "91c5b8ab-ae4b-498e-bfe9-c6c59a25cedf",
   "metadata": {},
   "source": [
    "# Model"
   ]
  },
  {
   "cell_type": "code",
   "execution_count": 16,
   "id": "4daff307-64b0-4c88-8d71-c484258c8fa0",
   "metadata": {},
   "outputs": [],
   "source": [
    "class RegressionModel(nn.Module):\n",
    "    def __init__(self):\n",
    "        super().__init__()\n",
    "        self.layer_1 = nn.Linear(\n",
    "            in_features=1,\n",
    "            out_features=6\n",
    "        )\n",
    "        self.relu_activation = nn.ReLU()\n",
    "\n",
    "        self.layer_2 = nn.Linear(\n",
    "            in_features=6,\n",
    "            out_features=1\n",
    "        )\n",
    "        \n",
    "    def forward(self, x):\n",
    "        fp1 = self.layer_1(x)\n",
    "        a1 = self.relu_activation(fp1)\n",
    "        output = self.layer_2(a1)\n",
    "        return output\n",
    "        "
   ]
  },
  {
   "cell_type": "markdown",
   "id": "68822e5e-8d9a-48fc-b967-0963e1b4812a",
   "metadata": {},
   "source": [
    "# Training"
   ]
  },
  {
   "cell_type": "code",
   "execution_count": 24,
   "id": "848f66b9-df0a-4d2a-ae1a-7b2497bacd0b",
   "metadata": {},
   "outputs": [
    {
     "name": "stdout",
     "output_type": "stream",
     "text": [
      "Epoch [1000/10000], Loss: 1527.1849\n",
      "Epoch [2000/10000], Loss: 0.0052\n",
      "Epoch [3000/10000], Loss: 0.0076\n",
      "Epoch [4000/10000], Loss: 0.0061\n",
      "Epoch [5000/10000], Loss: 0.0064\n",
      "Epoch [6000/10000], Loss: 0.0065\n",
      "Epoch [7000/10000], Loss: 0.0060\n",
      "Epoch [8000/10000], Loss: 0.0060\n",
      "Epoch [9000/10000], Loss: 0.0051\n",
      "Epoch [10000/10000], Loss: 0.0057\n"
     ]
    }
   ],
   "source": [
    "model = RegressionModel().to(device)\n",
    "\n",
    "loss_fn = nn.MSELoss()\n",
    "optimizer = torch.optim.Adam(model.parameters(), lr=0.001)\n",
    "\n",
    "num_epochs = 10000\n",
    "for i in range(num_epochs):\n",
    "    optimizer.zero_grad()\n",
    "\n",
    "    output = model(x_train)\n",
    "    loss = loss_fn(y_train, output)\n",
    "    loss.backward()\n",
    "\n",
    "    optimizer.step()\n",
    "    if (i + 1) % 1000 == 0:\n",
    "        print(f'Epoch [{i+1}/{num_epochs}], Loss: {loss.item():.4f}')"
   ]
  },
  {
   "cell_type": "markdown",
   "id": "96e721ce-eff3-4adc-8e55-96be0f7b9ee4",
   "metadata": {},
   "source": [
    "# Inference"
   ]
  },
  {
   "cell_type": "code",
   "execution_count": 18,
   "id": "4aae9d99-9e3b-49c7-a5d5-8eaa380b64cf",
   "metadata": {},
   "outputs": [],
   "source": [
    "# x_inference = torch.tensor(x_test).unsqueeze(dim=1).to(device)\n",
    "pred = model(x_test)"
   ]
  },
  {
   "cell_type": "markdown",
   "id": "52678518-55d5-47d3-8e35-a3366b66b6ca",
   "metadata": {},
   "source": [
    "# Plotting"
   ]
  },
  {
   "cell_type": "code",
   "execution_count": 23,
   "id": "07cd836a-5169-4c9b-aaf4-c6b537f1042a",
   "metadata": {},
   "outputs": [
    {
     "data": {
      "text/plain": [
       "<matplotlib.legend.Legend at 0x177bd0ca0>"
      ]
     },
     "execution_count": 23,
     "metadata": {},
     "output_type": "execute_result"
    },
    {
     "data": {
      "image/png": "[encoded data removed]",
      "text/plain": [
       "<Figure size 640x480 with 1 Axes>"
      ]
     },
     "metadata": {},
     "output_type": "display_data"
    }
   ],
   "source": [
    "plt.scatter(x_test.cpu(), pred.detach().cpu(), s=4, label='Predictions')\n",
    "plt.scatter(x_test.cpu(), y_test.cpu(), s= 4, label='Labels')\n",
    "\n",
    "plt.xlabel('x values')\n",
    "plt.legend()"
   ]
  }
 ],
 "metadata": {
  "kernelspec": {
   "display_name": "Python 3 (ipykernel)",
   "language": "python",
   "name": "python3"
  },
  "language_info": {
   "codemirror_mode": {
    "name": "ipython",
    "version": 3
   },
   "file_extension": ".py",
   "mimetype": "text/x-python",
   "name": "python",
   "nbconvert_exporter": "python",
   "pygments_lexer": "ipython3",
   "version": "3.9.6"
  }
 },
 "nbformat": 4,
 "nbformat_minor": 5
}
